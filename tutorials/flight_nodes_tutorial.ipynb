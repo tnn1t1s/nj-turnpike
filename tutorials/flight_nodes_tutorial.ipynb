{
 "cells": [
  {
   "cell_type": "markdown",
   "metadata": {},
   "source": [
    "# Flight Nodes Tutorial\n",
    "\n",
    "This tutorial demonstrates using both:\n",
    "1. A standard `FlightNode` from turnpike \n",
    "2. Our custom `DoubleValueNode` from nj-turnpike\n",
    "\n",
    "Both perform SQL operations on a PyArrow table via a Flight server."
   ]
  },
  {
   "cell_type": "markdown",
   "metadata": {},
   "source": [
    "## Setup\n",
    "\n",
    "First, let's import the necessary libraries and start a Flight server."
   ]
  },
  {
   "cell_type": "code",
   "execution_count": null,
   "metadata": {},
   "outputs": [],
   "source": [
    "import pyarrow as pa\n",
    "import pandas as pd\n",
    "import numpy as np\n",
    "import time\n",
    "from datetime import datetime\n",
    "\n",
    "# Import from the main Turnpike package\n",
    "from turnpike.flight.server import run_flight_server\n",
    "from turnpike.flight.client_node import FlightNode\n",
    "\n",
    "# Import our custom flight node\n",
    "from nj_turnpike.double_flight_node import DoubleValueNode\n",
    "\n",
    "# Start the Flight server\n",
    "print(\"Starting Flight server...\")\n",
    "run_flight_server()\n",
    "time.sleep(1)  # Give server time to start\n",
    "print(\"Flight server running!\")"
   ]
  },
  {
   "cell_type": "markdown",
   "metadata": {},
   "source": [
    "## Create Sample Data\n",
    "\n",
    "Let's create a sample PyArrow table to use in our examples."
   ]
  },
  {
   "cell_type": "code",
   "execution_count": null,
   "metadata": {},
   "outputs": [],
   "source": [
    "def create_sample_data(rows=100):\n",
    "    \"\"\"Create a sample PyArrow table with numeric data.\"\"\"\n",
    "    # Create random data\n",
    "    np.random.seed(42)  # For reproducibility\n",
    "    \n",
    "    data = {\n",
    "        \"id\": list(range(1, rows+1)),\n",
    "        \"value_a\": np.random.normal(100, 25, rows).astype(int),\n",
    "        \"value_b\": np.random.normal(200, 50, rows).astype(int),\n",
    "        \"category\": np.random.choice([\"A\", \"B\", \"C\"], size=rows),\n",
    "        \"timestamp\": [datetime.now() for _ in range(rows)]\n",
    "    }\n",
    "    \n",
    "    # Create PyArrow table\n",
    "    return pa.Table.from_pandas(pd.DataFrame(data))\n",
    "\n",
    "# Create the data\n",
    "data = create_sample_data(200)\n",
    "print(f\"Created sample data with {data.num_rows} rows\")\n",
    "print(\"Schema:\")\n",
    "print(data.schema)\n",
    "\n",
    "# Display a preview of the data\n",
    "data.to_pandas().head()"
   ]
  },
  {
   "cell_type": "markdown",
   "metadata": {},
   "source": [
    "## Example 1: Using Standard FlightNode\n",
    "\n",
    "First, let's use the standard `FlightNode` from turnpike to perform a SQL operation on our data. In this example, we'll calculate the sum of two columns."
   ]
  },
  {
   "cell_type": "code",
   "execution_count": null,
   "metadata": {},
   "outputs": [],
   "source": [
    "# SQL to calculate the sum of two columns\n",
    "sql = \"\"\"\n",
    "SELECT \n",
    "    id,\n",
    "    value_a,\n",
    "    value_b,\n",
    "    (value_a + value_b) AS sum_values,\n",
    "    category\n",
    "FROM input_table\n",
    "\"\"\"\n",
    "\n",
    "# Create and execute the node\n",
    "start_time = time.time()\n",
    "\n",
    "standard_node = FlightNode(\n",
    "    expression=sql,\n",
    "    input_table=data,\n",
    "    output_name=\"combined_values\"\n",
    ")\n",
    "\n",
    "standard_result = standard_node.execute()\n",
    "combined_data = standard_result[\"combined_values\"]\n",
    "\n",
    "standard_time = time.time() - start_time\n",
    "\n",
    "print(f\"Processing time: {standard_time:.4f} seconds\")\n",
    "print(\"Sample results:\")\n",
    "combined_data.to_pandas().head()"
   ]
  },
  {
   "cell_type": "markdown",
   "metadata": {},
   "source": [
    "## Example 2: Using Custom DoubleValueNode\n",
    "\n",
    "Now let's use our custom `DoubleValueNode` from nj-turnpike to double the values in a column."
   ]
  },
  {
   "cell_type": "code",
   "execution_count": null,
   "metadata": {},
   "outputs": [],
   "source": [
    "# Create and execute the node\n",
    "start_time = time.time()\n",
    "\n",
    "double_node = DoubleValueNode(\n",
    "    input_table=data,\n",
    "    column_name=\"value_a\",\n",
    "    output_column_name=\"doubled_value_a\",\n",
    "    output_name=\"doubled_data\"\n",
    ")\n",
    "\n",
    "double_result = double_node.execute()\n",
    "doubled_data = double_result[\"doubled_data\"]\n",
    "\n",
    "custom_time = time.time() - start_time\n",
    "\n",
    "print(f\"Processing time: {custom_time:.4f} seconds\")\n",
    "print(\"Sample results:\")\n",
    "doubled_data.to_pandas().head()"
   ]
  },
  {
   "cell_type": "markdown",
   "metadata": {},
   "source": [
    "## Example 3: Chaining Flight Nodes\n",
    "\n",
    "Now let's demonstrate how to chain nodes together. We'll first use our custom `DoubleValueNode` to double a column, then use a standard `FlightNode` to combine the doubled column with another column."
   ]
  },
  {
   "cell_type": "code",
   "execution_count": null,
   "metadata": {},
   "outputs": [],
   "source": [
    "start_time = time.time()\n",
    "\n",
    "# First double the values\n",
    "first_node = DoubleValueNode(\n",
    "    input_table=data,\n",
    "    column_name=\"value_a\",\n",
    "    output_column_name=\"doubled_value_a\",\n",
    "    output_name=\"intermediate\"\n",
    ")\n",
    "\n",
    "intermediate_result = first_node.execute()\n",
    "intermediate_data = intermediate_result[\"intermediate\"]\n",
    "\n",
    "# Let's display the intermediate data\n",
    "print(\"Intermediate data:\")\n",
    "intermediate_data.to_pandas().head(3)"
   ]
  },
  {
   "cell_type": "code",
   "execution_count": null,
   "metadata": {},
   "outputs": [],
   "source": [
    "# Then combine with another column using standard FlightNode\n",
    "sql = \"\"\"\n",
    "SELECT \n",
    "    id,\n",
    "    value_a,\n",
    "    doubled_value_a,\n",
    "    value_b,\n",
    "    (doubled_value_a + value_b) AS enhanced_sum\n",
    "FROM input_table\n",
    "\"\"\"\n",
    "\n",
    "second_node = FlightNode(\n",
    "    expression=sql,\n",
    "    input_table=intermediate_data,\n",
    "    output_name=\"final_result\"\n",
    ")\n",
    "\n",
    "final_result = second_node.execute()\n",
    "final_data = final_result[\"final_result\"]\n",
    "\n",
    "chain_time = time.time() - start_time\n",
    "\n",
    "print(f\"Total chaining processing time: {chain_time:.4f} seconds\")\n",
    "print(\"Final results:\")\n",
    "final_data.to_pandas().head()"
   ]
  },
  {
   "cell_type": "markdown",
   "metadata": {},
   "source": [
    "## Results Validation\n",
    "\n",
    "Let's verify that all our nodes produced the expected results."
   ]
  },
  {
   "cell_type": "code",
   "execution_count": null,
   "metadata": {},
   "outputs": [],
   "source": [
    "# Get pandas dataframes for easier validation\n",
    "df = data.to_pandas()\n",
    "df_combined = combined_data.to_pandas()\n",
    "df_doubled = doubled_data.to_pandas()\n",
    "df_final = final_data.to_pandas()\n",
    "\n",
    "# Validate standard node results\n",
    "assert all(df_combined[\"sum_values\"] == df[\"value_a\"] + df[\"value_b\"])\n",
    "print(\"✓ Standard FlightNode correctly calculated sums\")\n",
    "\n",
    "# Validate custom node results\n",
    "assert all(df_doubled[\"doubled_value_a\"] == df[\"value_a\"] * 2)\n",
    "print(\"✓ DoubleValueNode correctly doubled values\")\n",
    "\n",
    "# Validate chained results\n",
    "assert all(df_final[\"enhanced_sum\"] == (df[\"value_a\"] * 2) + df[\"value_b\"])\n",
    "print(\"✓ Chained nodes correctly processed data\")"
   ]
  },
  {
   "cell_type": "markdown",
   "metadata": {},
   "source": [
    "## Performance Comparison\n",
    "\n",
    "Let's compare the performance of the different approaches."
   ]
  },
  {
   "cell_type": "code",
   "execution_count": null,
   "metadata": {},
   "outputs": [],
   "source": [
    "print(\"Performance Summary:\")\n",
    "print(f\"Standard FlightNode: {standard_time:.4f} seconds\")\n",
    "print(f\"Custom DoubleValueNode: {custom_time:.4f} seconds\")\n",
    "print(f\"Chained nodes: {chain_time:.4f} seconds\")"
   ]
  },
  {
   "cell_type": "markdown",
   "metadata": {},
   "source": [
    "## Conclusion\n",
    "\n",
    "In this tutorial, we've demonstrated:\n",
    "\n",
    "1. How to use the standard `FlightNode` from turnpike to execute SQL on a PyArrow table\n",
    "2. How to use a custom `DoubleValueNode` from nj-turnpike to perform specialized operations\n",
    "3. How to chain multiple nodes together to build a data processing pipeline\n",
    "\n",
    "The custom `DoubleValueNode` provides a more user-friendly interface for a specific operation (doubling values), while the standard `FlightNode` offers more flexibility with raw SQL. By combining them, you can create powerful data processing pipelines that are both flexible and easy to use."
   ]
  }
 ],
 "metadata": {
  "kernelspec": {
   "display_name": "Python 3",
   "language": "python",
   "name": "python3"
  },
  "language_info": {
   "codemirror_mode": {
    "name": "ipython",
    "version": 3
   },
   "file_extension": ".py",
   "mimetype": "text/x-python",
   "name": "python",
   "nbconvert_exporter": "python",
   "pygments_lexer": "ipython3",
   "version": "3.12.5"
  }
 },
 "nbformat": 4,
 "nbformat_minor": 4
}